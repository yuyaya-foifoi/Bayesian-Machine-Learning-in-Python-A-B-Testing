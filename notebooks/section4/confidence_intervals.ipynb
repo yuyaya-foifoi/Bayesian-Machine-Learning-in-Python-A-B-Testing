{
 "cells": [
  {
   "cell_type": "code",
   "execution_count": 1,
   "id": "2d289c81-ad32-4210-b524-03800c4f93d8",
   "metadata": {},
   "outputs": [],
   "source": [
    "import numpy as np\n",
    "from scipy.stats import norm, t"
   ]
  },
  {
   "cell_type": "code",
   "execution_count": 2,
   "id": "37cf50cf-23fa-45d1-8f58-812e4ce626ca",
   "metadata": {},
   "outputs": [],
   "source": [
    "np.random.seed(1)"
   ]
  },
  {
   "cell_type": "code",
   "execution_count": 3,
   "id": "b54c7084-5768-44c5-a9b1-65af8c9585f6",
   "metadata": {},
   "outputs": [],
   "source": [
    "N = 1000\n",
    "mu = 5\n",
    "sigma = 2\n",
    "X = np.random.randn(N) * sigma + mu"
   ]
  },
  {
   "cell_type": "code",
   "execution_count": 4,
   "id": "11cc83a6-f29f-4be1-9819-0e4c85aa0b93",
   "metadata": {},
   "outputs": [
    {
     "name": "stdout",
     "output_type": "stream",
     "text": [
      "5.077624952319204 4.955959806754385 5.199290097884023\n"
     ]
    }
   ],
   "source": [
    "# z confidence interval\n",
    "mu_hat = np.mean(X)\n",
    "sigma_hat = np.std(X, ddof=1)\n",
    "\n",
    "# パーセント点関数は、累積分布関数cdfの逆関数で、累積分布関数をq％と指定するとその値をとる変数を返します。\n",
    "#従って、ppf(0.25)は第１四分位点、ppf(0.5)は中央値にあたる第２四分位点、ppf(0.75)は第３四分位点に相当します。\n",
    "z_left = norm.ppf(0.025)\n",
    "z_right = norm.ppf(0.975)\n",
    "\n",
    "lower = mu_hat + z_left * sigma_hat / np.sqrt(N)\n",
    "upper = mu_hat + z_right * sigma_hat / np.sqrt(N)\n",
    "\n",
    "print(mu_hat, lower, upper)"
   ]
  },
  {
   "cell_type": "code",
   "execution_count": 5,
   "id": "c9834f89-6abf-4eb5-8bd7-57d8478a8af4",
   "metadata": {},
   "outputs": [
    {
     "name": "stdout",
     "output_type": "stream",
     "text": [
      "5.077624952319204 4.9558122244324165 5.199437680205992\n"
     ]
    }
   ],
   "source": [
    "# t confidence interval\n",
    "mu_hat = np.mean(X)\n",
    "sigma_hat = np.std(X, ddof=1)\n",
    "\n",
    "# パーセント点関数は、累積分布関数cdfの逆関数で、累積分布関数をq％と指定するとその値をとる変数を返します。\n",
    "#従って、ppf(0.25)は第１四分位点、ppf(0.5)は中央値にあたる第２四分位点、ppf(0.75)は第３四分位点に相当します。\n",
    "t_left = t.ppf(0.025, df=N-1)\n",
    "t_right = t.ppf(0.975, df=N-1)\n",
    "\n",
    "lower = mu_hat + t_left * sigma_hat / np.sqrt(N)\n",
    "upper = mu_hat + t_right * sigma_hat / np.sqrt(N)\n",
    "\n",
    "print(mu_hat, lower, upper)"
   ]
  },
  {
   "cell_type": "code",
   "execution_count": 6,
   "id": "68a926cb-6645-4c5d-b336-156404c58dd0",
   "metadata": {},
   "outputs": [],
   "source": [
    "# the 95% CI should contain the true value 95% of the time\n",
    "def experiment():\n",
    "    X = np.random.randn(N) * sigma + mu\n",
    "    mu_hat = np.mean(X)\n",
    "    sigma_hat = np.std(X, ddof=1)\n",
    "    t_left = t.ppf(0.025, df=N-1)\n",
    "    t_right = t.ppf(0.975, df=N-1)\n",
    "\n",
    "    lower = mu_hat + t_left * sigma_hat / np.sqrt(N)\n",
    "    upper = mu_hat + t_right * sigma_hat / np.sqrt(N)\n",
    "    \n",
    "    return mu > lower and mu < upper\n",
    "    \n",
    "def multi_experiment(M):\n",
    "    results = [experiment() for _ in range(M)]\n",
    "    return np.mean(results)"
   ]
  },
  {
   "cell_type": "code",
   "execution_count": 7,
   "id": "7800bf64-ea3f-46e1-8ce1-29461a8ebc1d",
   "metadata": {},
   "outputs": [
    {
     "data": {
      "text/plain": [
       "0.9506"
      ]
     },
     "execution_count": 7,
     "metadata": {},
     "output_type": "execute_result"
    }
   ],
   "source": [
    "multi_experiment(10000)"
   ]
  }
 ],
 "metadata": {
  "kernelspec": {
   "display_name": "Python 3 (ipykernel)",
   "language": "python",
   "name": "python3"
  },
  "language_info": {
   "codemirror_mode": {
    "name": "ipython",
    "version": 3
   },
   "file_extension": ".py",
   "mimetype": "text/x-python",
   "name": "python",
   "nbconvert_exporter": "python",
   "pygments_lexer": "ipython3",
   "version": "3.9.6"
  }
 },
 "nbformat": 4,
 "nbformat_minor": 5
}
