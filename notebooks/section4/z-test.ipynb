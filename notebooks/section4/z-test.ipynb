{
 "cells": [
  {
   "cell_type": "code",
   "execution_count": 1,
   "id": "15cf6a63-1270-45e1-8d75-7c321c8d0023",
   "metadata": {},
   "outputs": [],
   "source": [
    "import numpy as np\n",
    "from scipy.stats import norm\n",
    "from statsmodels.stats.weightstats import ztest\n",
    "np.random.seed(0)"
   ]
  },
  {
   "cell_type": "code",
   "execution_count": 2,
   "id": "0307db24-e955-48ad-8a4e-61864cef0706",
   "metadata": {},
   "outputs": [],
   "source": [
    "N = 100\n",
    "mu = 0.2\n",
    "sigma = 1\n",
    "x = np.random.randn(N) * sigma + mu"
   ]
  },
  {
   "cell_type": "code",
   "execution_count": 3,
   "id": "19aeeb25-3306-4c19-8b4f-4c8b27b5ad67",
   "metadata": {},
   "outputs": [
    {
     "data": {
      "text/plain": [
       "(2.5648404153513686, 0.01032232684881584)"
      ]
     },
     "execution_count": 3,
     "metadata": {},
     "output_type": "execute_result"
    }
   ],
   "source": [
    "# two-sided test\n",
    "ztest(x)"
   ]
  },
  {
   "cell_type": "code",
   "execution_count": 4,
   "id": "48879986-5b5d-4a66-814b-daa769203d02",
   "metadata": {},
   "outputs": [
    {
     "data": {
      "text/plain": [
       "(2.564840415351368, 0.010322326848815901)"
      ]
     },
     "execution_count": 4,
     "metadata": {},
     "output_type": "execute_result"
    }
   ],
   "source": [
    "# two-sided test\n",
    "mu_hat = x.mean()\n",
    "sigma_hat = x.std(ddof=1)\n",
    "\n",
    "# 標本平均の期待値はmu, 分散は1/n * sigma**2\n",
    "# コアテキスト統計学P.153\n",
    "z = mu_hat / (sigma_hat / np.sqrt(N))\n",
    "\n",
    "p_right = 1 - norm.cdf(z) # norm.sfも使える\n",
    "p_left = norm.cdf(-z)\n",
    "p = p_right + p_left\n",
    "z, p"
   ]
  },
  {
   "cell_type": "code",
   "execution_count": 5,
   "id": "275af460-e53c-4ba8-9c83-9a9edd0ec8f6",
   "metadata": {},
   "outputs": [
    {
     "data": {
      "text/plain": [
       "(2.5648404153513686, 0.00516116342440792)"
      ]
     },
     "execution_count": 5,
     "metadata": {},
     "output_type": "execute_result"
    }
   ],
   "source": [
    "# one-sided test\n",
    "ztest(x, alternative='larger')"
   ]
  },
  {
   "cell_type": "code",
   "execution_count": 6,
   "id": "3321905d-6b14-4151-9476-aaa80e0a86c9",
   "metadata": {},
   "outputs": [
    {
     "data": {
      "text/plain": [
       "(2.564840415351368, 0.005161163424407977)"
      ]
     },
     "execution_count": 6,
     "metadata": {},
     "output_type": "execute_result"
    }
   ],
   "source": [
    "# one-sided test\n",
    "mu_hat = x.mean()\n",
    "sigma_hat = x.std(ddof=1)\n",
    "z = mu_hat / (sigma_hat / np.sqrt(N))\n",
    "p_right = 1 - norm.cdf(z) # norm.sfも使える\n",
    "z, p_right"
   ]
  },
  {
   "cell_type": "code",
   "execution_count": 7,
   "id": "6e510696-f246-4efc-8dc0-f14bfc40f7ef",
   "metadata": {},
   "outputs": [
    {
     "data": {
      "text/plain": [
       "(0.5904283402851699, 0.5549035151647227)"
      ]
     },
     "execution_count": 7,
     "metadata": {},
     "output_type": "execute_result"
    }
   ],
   "source": [
    "# null under a different reference value\n",
    "mu0 = 0.2\n",
    "ztest(x, value=mu0)"
   ]
  },
  {
   "cell_type": "code",
   "execution_count": 8,
   "id": "2b35bb09-0e62-41e1-8e1c-c4af80235ee2",
   "metadata": {},
   "outputs": [
    {
     "data": {
      "text/plain": [
       "(0.5904283402851698, 0.5549035151647228)"
      ]
     },
     "execution_count": 8,
     "metadata": {},
     "output_type": "execute_result"
    }
   ],
   "source": [
    "# null under a different reference value\n",
    "mu_hat = x.mean()\n",
    "sigma_hat = x.std(ddof=1)\n",
    "z = (mu_hat - mu0) / (sigma_hat / np.sqrt(N))\n",
    "p_right = 1 - norm.cdf(z) # norm.sfも使える\n",
    "p_left = norm.cdf(-z)\n",
    "p = p_right + p_left\n",
    "z, p"
   ]
  },
  {
   "cell_type": "code",
   "execution_count": 9,
   "id": "d5f4bed3-eefd-46a0-8ab3-4832292dfc96",
   "metadata": {},
   "outputs": [],
   "source": [
    "# two-sample test\n",
    "N0 = 100\n",
    "mu0 = 0.2\n",
    "sigma0 = 1\n",
    "x0 = np.random.randn(N0) * sigma0 + mu0\n",
    "\n",
    "N1 = 100\n",
    "mu1 = 0.5\n",
    "sigma1 = 1\n",
    "x1 = np.random.randn(N1) * sigma1 + mu1"
   ]
  },
  {
   "cell_type": "code",
   "execution_count": 10,
   "id": "5fb308b2-b76c-4969-be6e-da6ab96decfa",
   "metadata": {},
   "outputs": [
    {
     "data": {
      "text/plain": [
       "(-1.1234612344369315, 0.2612416557056353)"
      ]
     },
     "execution_count": 10,
     "metadata": {},
     "output_type": "execute_result"
    }
   ],
   "source": [
    "ztest(x0, x1)"
   ]
  },
  {
   "cell_type": "code",
   "execution_count": 11,
   "id": "b568774e-c09c-4135-849f-de15bfff6c1c",
   "metadata": {},
   "outputs": [
    {
     "data": {
      "text/plain": [
       "(1.1234612344369315, 0.26124165570563523)"
      ]
     },
     "execution_count": 11,
     "metadata": {},
     "output_type": "execute_result"
    }
   ],
   "source": [
    "# two sample implementation\n",
    "mu_hat0 = x0.mean()\n",
    "mu_hat1 = x1.mean()\n",
    "dmu_hat = mu_hat1 - mu_hat0\n",
    "s2_hat0 = x0.var(ddof=1)\n",
    "s2_hat1 = x1.var(ddof=1)\n",
    "s_hat = np.sqrt(s2_hat0 / N0 + s2_hat1 / N1)\n",
    "z = dmu_hat / s_hat\n",
    "p_right = 1 - norm.cdf(z) # norm.sfも使える\n",
    "p_left = norm.cdf(-z)\n",
    "p = p_right + p_left\n",
    "z, p"
   ]
  },
  {
   "cell_type": "code",
   "execution_count": 12,
   "id": "87ef4eb9-4ffa-4ec2-9519-845b90804ff8",
   "metadata": {},
   "outputs": [
    {
     "name": "stdout",
     "output_type": "stream",
     "text": [
      "0.049\n",
      "0.5022881995031448\n"
     ]
    }
   ],
   "source": [
    "num_tests = 10000\n",
    "results = np.zeros(num_tests)\n",
    "ps = np.zeros(num_tests)\n",
    "for i in range(num_tests):\n",
    "    x1 = np.random.randn(100)\n",
    "    x2 = np.random.randn(100)\n",
    "    z, p = ztest(x1, x2)\n",
    "    results[i] = (p < 0.05)\n",
    "    ps[i] = p\n",
    "print(results.mean())\n",
    "print(ps.mean())"
   ]
  },
  {
   "cell_type": "code",
   "execution_count": 13,
   "id": "e35dfcba-1504-4c53-a86e-25f58a763bd2",
   "metadata": {},
   "outputs": [],
   "source": [
    "#!wget https://lazyprogrammer.me/course_files/titanic_train.csv"
   ]
  },
  {
   "cell_type": "code",
   "execution_count": 14,
   "id": "f68d0e21-f663-488e-afc2-a3a90504ca87",
   "metadata": {},
   "outputs": [],
   "source": [
    "import pandas as pd\n",
    "import seaborn as sns\n",
    "import matplotlib.pyplot as plt"
   ]
  },
  {
   "cell_type": "code",
   "execution_count": 15,
   "id": "36bd4ff3-dc7f-4ab2-a61a-80ab439bf517",
   "metadata": {},
   "outputs": [],
   "source": [
    "df = pd.read_csv('./titanic_train.csv')"
   ]
  },
  {
   "cell_type": "code",
   "execution_count": 16,
   "id": "e670dee4-67d3-4d71-b621-4ed2e2ccc0ac",
   "metadata": {},
   "outputs": [
    {
     "data": {
      "text/html": [
       "<div>\n",
       "<style scoped>\n",
       "    .dataframe tbody tr th:only-of-type {\n",
       "        vertical-align: middle;\n",
       "    }\n",
       "\n",
       "    .dataframe tbody tr th {\n",
       "        vertical-align: top;\n",
       "    }\n",
       "\n",
       "    .dataframe thead th {\n",
       "        text-align: right;\n",
       "    }\n",
       "</style>\n",
       "<table border=\"1\" class=\"dataframe\">\n",
       "  <thead>\n",
       "    <tr style=\"text-align: right;\">\n",
       "      <th></th>\n",
       "      <th>PassengerId</th>\n",
       "      <th>Survived</th>\n",
       "      <th>Pclass</th>\n",
       "      <th>Name</th>\n",
       "      <th>Sex</th>\n",
       "      <th>Age</th>\n",
       "      <th>SibSp</th>\n",
       "      <th>Parch</th>\n",
       "      <th>Ticket</th>\n",
       "      <th>Fare</th>\n",
       "      <th>Cabin</th>\n",
       "      <th>Embarked</th>\n",
       "    </tr>\n",
       "  </thead>\n",
       "  <tbody>\n",
       "    <tr>\n",
       "      <th>1</th>\n",
       "      <td>2</td>\n",
       "      <td>1</td>\n",
       "      <td>1</td>\n",
       "      <td>Cumings, Mrs. John Bradley (Florence Briggs Th...</td>\n",
       "      <td>female</td>\n",
       "      <td>38.0</td>\n",
       "      <td>1</td>\n",
       "      <td>0</td>\n",
       "      <td>PC 17599</td>\n",
       "      <td>71.2833</td>\n",
       "      <td>C85</td>\n",
       "      <td>C</td>\n",
       "    </tr>\n",
       "    <tr>\n",
       "      <th>2</th>\n",
       "      <td>3</td>\n",
       "      <td>1</td>\n",
       "      <td>3</td>\n",
       "      <td>Heikkinen, Miss. Laina</td>\n",
       "      <td>female</td>\n",
       "      <td>26.0</td>\n",
       "      <td>0</td>\n",
       "      <td>0</td>\n",
       "      <td>STON/O2. 3101282</td>\n",
       "      <td>7.9250</td>\n",
       "      <td>NaN</td>\n",
       "      <td>S</td>\n",
       "    </tr>\n",
       "  </tbody>\n",
       "</table>\n",
       "</div>"
      ],
      "text/plain": [
       "   PassengerId  Survived  Pclass  \\\n",
       "1            2         1       1   \n",
       "2            3         1       3   \n",
       "\n",
       "                                                Name     Sex   Age  SibSp  \\\n",
       "1  Cumings, Mrs. John Bradley (Florence Briggs Th...  female  38.0      1   \n",
       "2                             Heikkinen, Miss. Laina  female  26.0      0   \n",
       "\n",
       "   Parch            Ticket     Fare Cabin Embarked  \n",
       "1      0          PC 17599  71.2833   C85        C  \n",
       "2      0  STON/O2. 3101282   7.9250   NaN        S  "
      ]
     },
     "execution_count": 16,
     "metadata": {},
     "output_type": "execute_result"
    }
   ],
   "source": [
    "df[df['Survived'] == 1].head(2)"
   ]
  },
  {
   "cell_type": "code",
   "execution_count": 17,
   "id": "2794298e-b442-4b3d-89a7-d42790e8e41f",
   "metadata": {},
   "outputs": [],
   "source": [
    "survive = df[df['Survived'] == 1]['Fare'].dropna().to_numpy()\n",
    "died = df[df['Survived'] == 0]['Fare'].dropna().to_numpy()"
   ]
  },
  {
   "cell_type": "code",
   "execution_count": 18,
   "id": "efc575cc-9dd8-4232-886b-d27e1f85ce59",
   "metadata": {},
   "outputs": [
    {
     "data": {
      "image/png": "[encoded data removed]",
      "text/plain": [
       "<Figure size 432x288 with 1 Axes>"
      ]
     },
     "metadata": {
      "needs_background": "light"
     },
     "output_type": "display_data"
    }
   ],
   "source": [
    "sns.kdeplot(survive, label='Survived')\n",
    "sns.kdeplot(died, label='Died')\n",
    "plt.legend()\n",
    "plt.show()\n",
    "plt.close()"
   ]
  },
  {
   "cell_type": "code",
   "execution_count": 19,
   "id": "59741aa6-1e0b-46d9-9450-e3e27fd02c43",
   "metadata": {},
   "outputs": [],
   "source": [
    "survive_mean = survive.mean(); died_mean = died.mean()"
   ]
  },
  {
   "cell_type": "code",
   "execution_count": 20,
   "id": "7a9dc924-1f6d-40c7-8f65-20c4c53c776d",
   "metadata": {},
   "outputs": [
    {
     "data": {
      "text/plain": [
       "(7.939191660871055, 2.035031103573989e-15)"
      ]
     },
     "execution_count": 20,
     "metadata": {},
     "output_type": "execute_result"
    }
   ],
   "source": [
    "ztest(survive, died)"
   ]
  },
  {
   "cell_type": "code",
   "execution_count": 21,
   "id": "17262948-f400-41b1-b344-e6112f5b7046",
   "metadata": {},
   "outputs": [],
   "source": [
    "clickdf = pd.read_csv('./advertisement_clicks.csv')"
   ]
  },
  {
   "cell_type": "code",
   "execution_count": 22,
   "id": "fa18b988-e12d-43c7-98d8-f8514753eb45",
   "metadata": {},
   "outputs": [],
   "source": [
    "a_cv = clickdf[clickdf['advertisement_id'] == 'A']['action']\n",
    "b_cv = clickdf[clickdf['advertisement_id'] == 'B']['action']"
   ]
  },
  {
   "cell_type": "code",
   "execution_count": 23,
   "id": "61c77033-8725-445f-9fee-ef972d971376",
   "metadata": {},
   "outputs": [
    {
     "data": {
      "text/plain": [
       "(0.304, 0.372)"
      ]
     },
     "execution_count": 23,
     "metadata": {},
     "output_type": "execute_result"
    }
   ],
   "source": [
    "a_cv.mean(), b_cv.mean()"
   ]
  },
  {
   "cell_type": "code",
   "execution_count": 24,
   "id": "85e119fa-6cb1-4ac8-9ff8-c9d6e77cd616",
   "metadata": {},
   "outputs": [
    {
     "data": {
      "text/plain": [
       "(-3.2211732138019786, 0.0012766696301529544)"
      ]
     },
     "execution_count": 24,
     "metadata": {},
     "output_type": "execute_result"
    }
   ],
   "source": [
    "ztest(a_cv, b_cv)"
   ]
  }
 ],
 "metadata": {
  "kernelspec": {
   "display_name": "Python 3 (ipykernel)",
   "language": "python",
   "name": "python3"
  },
  "language_info": {
   "codemirror_mode": {
    "name": "ipython",
    "version": 3
   },
   "file_extension": ".py",
   "mimetype": "text/x-python",
   "name": "python",
   "nbconvert_exporter": "python",
   "pygments_lexer": "ipython3",
   "version": "3.9.6"
  }
 },
 "nbformat": 4,
 "nbformat_minor": 5
}
