{
 "cells": [
  {
   "cell_type": "code",
   "execution_count": 1,
   "id": "327fe052-e05e-4970-b6d4-abc5d73cc122",
   "metadata": {},
   "outputs": [],
   "source": [
    "# 参考\n",
    "# From the course: Bayesin Machine Learning in Python: A/B Testing\n",
    "# https://www.udemy.com/bayesian-machine-learning-in-python-ab-testing\n",
    "import matplotlib.pyplot as plt\n",
    "import numpy as np\n",
    "import random"
   ]
  },
  {
   "cell_type": "code",
   "execution_count": 2,
   "id": "287f56bd-c89f-4bfd-a9c0-2c7ef161c35b",
   "metadata": {},
   "outputs": [],
   "source": [
    "NUM_TRIALS = 1000\n",
    "# EPSはDecaying　EPSを採用する\n",
    "#EPS = 0.2\n",
    "BANDIT_PROBABILITIES = [0.67, 0.86, 0.85, 0.88, 0.8, 0.971]"
   ]
  },
  {
   "cell_type": "code",
   "execution_count": 3,
   "id": "3e364b35-e351-443b-97c1-8f129f2a6063",
   "metadata": {},
   "outputs": [],
   "source": [
    "class Bandit:\n",
    "    def __init__(self, p):\n",
    "        self.p = p\n",
    "        self.p_estimate = 0.0\n",
    "        self.N = 0.0\n",
    "    \n",
    "    def pull(self):\n",
    "        return np.random.random() < self.p\n",
    "    \n",
    "    def update(self, x):\n",
    "        self.N += 1\n",
    "        self.p_estimate = ((self.N - 1) * self.p_estimate + x) / self.N\n",
    "        \n",
    "def experiment():\n",
    "    bandits = [Bandit(p) for p in BANDIT_PROBABILITIES]\n",
    "    \n",
    "    rewards = np.zeros(NUM_TRIALS)\n",
    "    num_times_explored = 0\n",
    "    num_times_exploited = 0\n",
    "    num_optimal = 0\n",
    "    optimal_j = np.argmax([b.p for b in bandits])\n",
    "    \n",
    "    # ~~~ EPS ~~~~\n",
    "    cnt = 0.0\n",
    "    EPS = 0.0\n",
    "    \n",
    "    a = 10; b = 10; c = 5\n",
    "    \n",
    "    for i in range(NUM_TRIALS):\n",
    "\n",
    "        # use epsilon-greedy to select the next bandit\n",
    "        if np.random.random() < EPS:\n",
    "             # collect data\n",
    "            num_times_explored += 1\n",
    "            j = random.choice(np.arange(len(bandits)))\n",
    "        else:\n",
    "            # select choice with highest win rate\n",
    "            num_times_exploited += 1\n",
    "            j = np.argmax([b.p_estimate for b in bandits])\n",
    "\n",
    "        if j == optimal_j:\n",
    "            num_optimal += 1\n",
    "\n",
    "        # pull the arm for the bandit with the largest sample\n",
    "        x = bandits[j].pull()\n",
    "\n",
    "        # update rewards log\n",
    "        rewards[i] = x\n",
    "\n",
    "        # update the distribution for the bandit whose arm we just pulled\n",
    "        bandits[j].update(x)\n",
    "        \n",
    "        cnt += 1\n",
    "        \n",
    "        # decaying\n",
    "        EPS = 1 / cnt\n",
    "        #EPS = a / np.log(b*cnt + c)\n",
    "\n",
    "\n",
    "    # print mean estimates for each bandit\n",
    "    print('~'*10, 'print estimates', '~'*10)\n",
    "    for b in bandits:\n",
    "        print(\"mean estimate:\", b.p_estimate, 'actual prob', b.p)\n",
    "        \n",
    "    # print total reward\n",
    "    print('~'*10, 'print total reward', '~'*10)\n",
    "    print(\"total reward earned:\", rewards.sum())\n",
    "    print(\"overall win rate:\", rewards.sum() / NUM_TRIALS)\n",
    "    print(\"num_times_explored:\", num_times_explored)\n",
    "    print(\"num_times_exploited:\", num_times_exploited)\n",
    "    print(\"num times selected optimal bandit:\", num_optimal)\n",
    "  \n",
    "    # plot the results\n",
    "    cumulative_rewards = np.cumsum(rewards)\n",
    "    win_rates = cumulative_rewards / (np.arange(NUM_TRIALS) + 1)\n",
    "    plt.plot(win_rates)\n",
    "    plt.plot(np.ones(NUM_TRIALS)*np.max(BANDIT_PROBABILITIES))\n",
    "    plt.show()"
   ]
  },
  {
   "cell_type": "code",
   "execution_count": 4,
   "id": "f8cb34a5-35ca-44b3-ba02-4c5f9845dfda",
   "metadata": {},
   "outputs": [
    {
     "name": "stdout",
     "output_type": "stream",
     "text": [
      "~~~~~~~~~~ print estimates ~~~~~~~~~~\n",
      "mean estimate: 0.7368421052631579 actual prob 0.67\n",
      "mean estimate: 0.5 actual prob 0.86\n",
      "mean estimate: 0.8578784757981462 actual prob 0.85\n",
      "mean estimate: 0.5 actual prob 0.88\n",
      "mean estimate: 0.0 actual prob 0.8\n",
      "mean estimate: 0.0 actual prob 0.971\n",
      "~~~~~~~~~~ print total reward ~~~~~~~~~~\n",
      "total reward earned: 851.0\n",
      "overall win rate: 0.851\n",
      "num_times_explored: 10\n",
      "num_times_exploited: 990\n",
      "num times selected optimal bandit: 0\n"
     ]
    },
    {
     "data": {
      "image/png": "[encoded data removed]",
      "text/plain": [
       "<Figure size 432x288 with 1 Axes>"
      ]
     },
     "metadata": {
      "needs_background": "light"
     },
     "output_type": "display_data"
    }
   ],
   "source": [
    "experiment()"
   ]
  }
 ],
 "metadata": {
  "kernelspec": {
   "display_name": "Python 3 (ipykernel)",
   "language": "python",
   "name": "python3"
  },
  "language_info": {
   "codemirror_mode": {
    "name": "ipython",
    "version": 3
   },
   "file_extension": ".py",
   "mimetype": "text/x-python",
   "name": "python",
   "nbconvert_exporter": "python",
   "pygments_lexer": "ipython3",
   "version": "3.9.6"
  }
 },
 "nbformat": 4,
 "nbformat_minor": 5
}
