{
 "cells": [
  {
   "cell_type": "code",
   "execution_count": 1,
   "id": "7c75d878-cd83-46c5-8d0f-529c18e708f4",
   "metadata": {},
   "outputs": [],
   "source": [
    "import numpy as np\n",
    "import matplotlib.pyplot as plt\n",
    "from scipy.stats import norm\n",
    "np.random.seed(0)"
   ]
  },
  {
   "cell_type": "code",
   "execution_count": 2,
   "id": "44b022ce-b4b9-43d2-8db0-2a886b5758ac",
   "metadata": {},
   "outputs": [],
   "source": [
    "mu = 170\n",
    "sd = 7"
   ]
  },
  {
   "cell_type": "code",
   "execution_count": 3,
   "id": "64972e7e-a797-46e9-804e-3701640102c6",
   "metadata": {},
   "outputs": [],
   "source": [
    "# sample from distribution\n",
    "x = norm.rvs(loc=mu, scale=sd, size=100)"
   ]
  },
  {
   "cell_type": "code",
   "execution_count": 4,
   "id": "4efbfa38-e0bc-4c40-a9be-fcaf509aaaf5",
   "metadata": {},
   "outputs": [
    {
     "data": {
      "text/plain": [
       "170.41865610874137"
      ]
     },
     "execution_count": 4,
     "metadata": {},
     "output_type": "execute_result"
    }
   ],
   "source": [
    "x.mean()"
   ]
  },
  {
   "cell_type": "code",
   "execution_count": 5,
   "id": "159d1401-e4c7-454f-b64a-c014cc1a0eb2",
   "metadata": {},
   "outputs": [
    {
     "data": {
      "text/plain": [
       "49.77550434153163"
      ]
     },
     "execution_count": 5,
     "metadata": {},
     "output_type": "execute_result"
    }
   ],
   "source": [
    "x.var()"
   ]
  },
  {
   "cell_type": "code",
   "execution_count": 6,
   "id": "20dbbf85-ce3d-4460-b200-71286830e061",
   "metadata": {},
   "outputs": [
    {
     "data": {
      "text/plain": [
       "49.77550434153163"
      ]
     },
     "execution_count": 6,
     "metadata": {},
     "output_type": "execute_result"
    }
   ],
   "source": [
    "((x - x.mean())**2).mean()"
   ]
  },
  {
   "cell_type": "code",
   "execution_count": 7,
   "id": "5bc11b1c-fda7-45e8-9819-a6f0fd2fdf5c",
   "metadata": {},
   "outputs": [
    {
     "data": {
      "text/plain": [
       "7.055175713016057"
      ]
     },
     "execution_count": 7,
     "metadata": {},
     "output_type": "execute_result"
    }
   ],
   "source": [
    "x.std()"
   ]
  },
  {
   "cell_type": "code",
   "execution_count": 8,
   "id": "3ed69c1e-96d9-40e5-ab4b-8eb4f6ad5522",
   "metadata": {},
   "outputs": [
    {
     "data": {
      "text/plain": [
       "50.278287213668314"
      ]
     },
     "execution_count": 8,
     "metadata": {},
     "output_type": "execute_result"
    }
   ],
   "source": [
    "# unbiased variance\n",
    "x.var(ddof=1)"
   ]
  },
  {
   "cell_type": "code",
   "execution_count": 9,
   "id": "6df8c3ca-a691-45a0-b2e8-5ae937142063",
   "metadata": {},
   "outputs": [
    {
     "data": {
      "text/plain": [
       "50.278287213668314"
      ]
     },
     "execution_count": 9,
     "metadata": {},
     "output_type": "execute_result"
    }
   ],
   "source": [
    "((x - x.mean())**2).sum() / (len(x) - 1)"
   ]
  },
  {
   "cell_type": "code",
   "execution_count": 10,
   "id": "95c6f833-ad89-4066-afa3-7b0966668f98",
   "metadata": {},
   "outputs": [
    {
     "data": {
      "text/plain": [
       "7.090718384879512"
      ]
     },
     "execution_count": 10,
     "metadata": {},
     "output_type": "execute_result"
    }
   ],
   "source": [
    "x.std(ddof=1)"
   ]
  },
  {
   "cell_type": "code",
   "execution_count": 11,
   "id": "46cee67a-edce-474b-8bb2-a7a396dd17ba",
   "metadata": {},
   "outputs": [
    {
     "data": {
      "text/plain": [
       "181.5139753886603"
      ]
     },
     "execution_count": 11,
     "metadata": {},
     "output_type": "execute_result"
    }
   ],
   "source": [
    "# 95パーセンタイルの身長は?\n",
    "\n",
    "# パーセント点関数は、累積分布関数cdfの逆関数で、累積分布関数をq％と指定するとその値をとる変数を返します。\n",
    "# 従って、ppf(0.25)は第１四分位点、ppf(0.5)は中央値にあたる第２四分位点、ppf(0.75)は第３四分位点に相当します。\n",
    "# https://qiita.com/y_itoh/items/c388ff82360906240daf\n",
    "\n",
    "norm.ppf(0.95, loc=mu, scale=sd)"
   ]
  },
  {
   "cell_type": "code",
   "execution_count": 12,
   "id": "4325772c-87ed-4c0e-ae5f-ccc74bb55abd",
   "metadata": {},
   "outputs": [
    {
     "data": {
      "text/plain": [
       "0.07656372550983476"
      ]
     },
     "execution_count": 12,
     "metadata": {},
     "output_type": "execute_result"
    }
   ],
   "source": [
    "# 160cmの場合、どのパーセンタイルか？\n",
    "\n",
    "norm.cdf(160, loc=mu, scale=sd)"
   ]
  },
  {
   "cell_type": "code",
   "execution_count": 13,
   "id": "db39e418-666a-4d53-b236-7a869acf2e5a",
   "metadata": {},
   "outputs": [
    {
     "data": {
      "text/plain": [
       "0.07656372550983481"
      ]
     },
     "execution_count": 13,
     "metadata": {},
     "output_type": "execute_result"
    }
   ],
   "source": [
    "# もし180cmの場合、自分より身長が高い人がいる確率は？\n",
    "\n",
    "1 - norm.cdf(180, loc=mu, scale=sd)"
   ]
  },
  {
   "cell_type": "code",
   "execution_count": 14,
   "id": "b8295031-3f0c-4d7c-8a13-fc694719dd2c",
   "metadata": {},
   "outputs": [
    {
     "data": {
      "text/plain": [
       "0.07656372550983476"
      ]
     },
     "execution_count": 14,
     "metadata": {},
     "output_type": "execute_result"
    }
   ],
   "source": [
    "# 生存関数は、累積分布関数cdfとは逆に、確率変数XXがある値xx以上となる確率を計算します。\n",
    "\n",
    "norm.sf(180, loc=mu, scale=sd)"
   ]
  }
 ],
 "metadata": {
  "kernelspec": {
   "display_name": "Python 3 (ipykernel)",
   "language": "python",
   "name": "python3"
  },
  "language_info": {
   "codemirror_mode": {
    "name": "ipython",
    "version": 3
   },
   "file_extension": ".py",
   "mimetype": "text/x-python",
   "name": "python",
   "nbconvert_exporter": "python",
   "pygments_lexer": "ipython3",
   "version": "3.9.6"
  }
 },
 "nbformat": 4,
 "nbformat_minor": 5
}
